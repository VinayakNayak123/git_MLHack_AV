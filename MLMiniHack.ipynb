{
 "cells": [
  {
   "cell_type": "code",
   "execution_count": 418,
   "metadata": {
    "collapsed": true
   },
   "outputs": [],
   "source": [
    "import numpy as np\n",
    "import pandas as pd\n",
    "\n",
    "\n",
    "# Pretty display for notebooks\n",
    "%matplotlib inline"
   ]
  },
  {
   "cell_type": "code",
   "execution_count": 419,
   "metadata": {
    "collapsed": false
   },
   "outputs": [
    {
     "name": "stdout",
     "output_type": "stream",
     "text": [
      "Data loaded\n",
      "Train dataset has 679051 data points with 4 variables each.\n"
     ]
    }
   ],
   "source": [
    "#Train data\n",
    "try:\n",
    "    traindf=pd.read_csv(\"train.csv\")\n",
    "    print (\"Data loaded\")\n",
    "    print \"Train dataset has {} data points with {} variables each.\".format(*traindf.shape)\n",
    "    \n",
    "except:\n",
    "    print (\"An error occured\")"
   ]
  },
  {
   "cell_type": "code",
   "execution_count": 420,
   "metadata": {
    "collapsed": false
   },
   "outputs": [
    {
     "name": "stdout",
     "output_type": "stream",
     "text": [
      "Data loaded\n",
      "User dataset has 89502 data points with 3 variables each.\n"
     ]
    }
   ],
   "source": [
    "try:\n",
    "    userdf=pd.read_csv(\"user.csv\")\n",
    "    print (\"Data loaded\")\n",
    "    print \"User dataset has {} data points with {} variables each.\".format(*userdf.shape)\n",
    "    \n",
    "except:\n",
    "    print (\"An error occured\")"
   ]
  },
  {
   "cell_type": "code",
   "execution_count": 421,
   "metadata": {
    "collapsed": false
   },
   "outputs": [
    {
     "name": "stdout",
     "output_type": "stream",
     "text": [
      "Data loaded\n",
      "article dataset has 261758 data points with 4 variables each.\n"
     ]
    }
   ],
   "source": [
    "try:\n",
    "    articledf=pd.read_csv(\"article.csv\")\n",
    "    print (\"Data loaded\")\n",
    "    print \"article dataset has {} data points with {} variables each.\".format(*articledf.shape)\n",
    "    \n",
    "except:\n",
    "    print (\"An error occured\")"
   ]
  },
  {
   "cell_type": "code",
   "execution_count": 422,
   "metadata": {
    "collapsed": false
   },
   "outputs": [
    {
     "name": "stdout",
     "output_type": "stream",
     "text": [
      "Data loaded for test set\n",
      "Test dataset has 290306 data points with 3 variables each.\n"
     ]
    }
   ],
   "source": [
    "#Test Data\n",
    "try:\n",
    "    testdf=pd.read_csv(\"test.csv\")\n",
    "    print (\"Data loaded for test set\")\n",
    "    print \"Test dataset has {} data points with {} variables each.\".format(*testdf.shape)\n",
    "    \n",
    "except:\n",
    "    print (\"An error occured\")"
   ]
  },
  {
   "cell_type": "code",
   "execution_count": 423,
   "metadata": {
    "collapsed": false
   },
   "outputs": [
    {
     "data": {
      "text/plain": [
       "u'0.18.1'"
      ]
     },
     "execution_count": 423,
     "metadata": {},
     "output_type": "execute_result"
    }
   ],
   "source": [
    "pd.__version__"
   ]
  },
  {
   "cell_type": "code",
   "execution_count": 424,
   "metadata": {
    "collapsed": false
   },
   "outputs": [
    {
     "data": {
      "text/html": [
       "<div>\n",
       "<table border=\"1\" class=\"dataframe\">\n",
       "  <thead>\n",
       "    <tr style=\"text-align: right;\">\n",
       "      <th></th>\n",
       "      <th>User_ID</th>\n",
       "      <th>Article_ID</th>\n",
       "      <th>Rating</th>\n",
       "      <th>ID</th>\n",
       "    </tr>\n",
       "  </thead>\n",
       "  <tbody>\n",
       "    <tr>\n",
       "      <th>0</th>\n",
       "      <td>20080828074</td>\n",
       "      <td>1219102233</td>\n",
       "      <td>0</td>\n",
       "      <td>20080828074_1219102233</td>\n",
       "    </tr>\n",
       "    <tr>\n",
       "      <th>1</th>\n",
       "      <td>20080851125</td>\n",
       "      <td>1219110304</td>\n",
       "      <td>6</td>\n",
       "      <td>20080851125_1219110304</td>\n",
       "    </tr>\n",
       "    <tr>\n",
       "      <th>2</th>\n",
       "      <td>20080820760</td>\n",
       "      <td>1219151095</td>\n",
       "      <td>0</td>\n",
       "      <td>20080820760_1219151095</td>\n",
       "    </tr>\n",
       "    <tr>\n",
       "      <th>3</th>\n",
       "      <td>20080824760</td>\n",
       "      <td>1219295837</td>\n",
       "      <td>5</td>\n",
       "      <td>20080824760_1219295837</td>\n",
       "    </tr>\n",
       "    <tr>\n",
       "      <th>4</th>\n",
       "      <td>20080883177</td>\n",
       "      <td>1219209257</td>\n",
       "      <td>4</td>\n",
       "      <td>20080883177_1219209257</td>\n",
       "    </tr>\n",
       "  </tbody>\n",
       "</table>\n",
       "</div>"
      ],
      "text/plain": [
       "       User_ID  Article_ID  Rating                      ID\n",
       "0  20080828074  1219102233       0  20080828074_1219102233\n",
       "1  20080851125  1219110304       6  20080851125_1219110304\n",
       "2  20080820760  1219151095       0  20080820760_1219151095\n",
       "3  20080824760  1219295837       5  20080824760_1219295837\n",
       "4  20080883177  1219209257       4  20080883177_1219209257"
      ]
     },
     "execution_count": 424,
     "metadata": {},
     "output_type": "execute_result"
    }
   ],
   "source": [
    "traindf.head()"
   ]
  },
  {
   "cell_type": "code",
   "execution_count": 425,
   "metadata": {
    "collapsed": false
   },
   "outputs": [
    {
     "data": {
      "text/html": [
       "<div>\n",
       "<table border=\"1\" class=\"dataframe\">\n",
       "  <thead>\n",
       "    <tr style=\"text-align: right;\">\n",
       "      <th></th>\n",
       "      <th>User_ID</th>\n",
       "      <th>Var1</th>\n",
       "      <th>Age</th>\n",
       "    </tr>\n",
       "  </thead>\n",
       "  <tbody>\n",
       "    <tr>\n",
       "      <th>0</th>\n",
       "      <td>20080820123</td>\n",
       "      <td>A</td>\n",
       "      <td>NaN</td>\n",
       "    </tr>\n",
       "    <tr>\n",
       "      <th>1</th>\n",
       "      <td>20080820124</td>\n",
       "      <td>A</td>\n",
       "      <td>20-30</td>\n",
       "    </tr>\n",
       "    <tr>\n",
       "      <th>2</th>\n",
       "      <td>20080820125</td>\n",
       "      <td>A</td>\n",
       "      <td>30-40</td>\n",
       "    </tr>\n",
       "    <tr>\n",
       "      <th>3</th>\n",
       "      <td>20080820126</td>\n",
       "      <td>A</td>\n",
       "      <td>Less tha 15</td>\n",
       "    </tr>\n",
       "    <tr>\n",
       "      <th>4</th>\n",
       "      <td>20080820127</td>\n",
       "      <td>A</td>\n",
       "      <td>NaN</td>\n",
       "    </tr>\n",
       "  </tbody>\n",
       "</table>\n",
       "</div>"
      ],
      "text/plain": [
       "       User_ID Var1          Age\n",
       "0  20080820123    A          NaN\n",
       "1  20080820124    A        20-30\n",
       "2  20080820125    A        30-40\n",
       "3  20080820126    A  Less tha 15\n",
       "4  20080820127    A          NaN"
      ]
     },
     "execution_count": 425,
     "metadata": {},
     "output_type": "execute_result"
    }
   ],
   "source": [
    "userdf.head()"
   ]
  },
  {
   "cell_type": "code",
   "execution_count": 426,
   "metadata": {
    "collapsed": false
   },
   "outputs": [
    {
     "data": {
      "text/html": [
       "<div>\n",
       "<table border=\"1\" class=\"dataframe\">\n",
       "  <thead>\n",
       "    <tr style=\"text-align: right;\">\n",
       "      <th></th>\n",
       "      <th>Article_ID</th>\n",
       "      <th>VintageMonths</th>\n",
       "      <th>NumberOfArticlesBySameAuthor</th>\n",
       "      <th>NumberOfArticlesinSameCategory</th>\n",
       "    </tr>\n",
       "  </thead>\n",
       "  <tbody>\n",
       "    <tr>\n",
       "      <th>0</th>\n",
       "      <td>1219098423</td>\n",
       "      <td>10.0</td>\n",
       "      <td>3</td>\n",
       "      <td>503</td>\n",
       "    </tr>\n",
       "    <tr>\n",
       "      <th>1</th>\n",
       "      <td>1219098424</td>\n",
       "      <td>9.0</td>\n",
       "      <td>3</td>\n",
       "      <td>503</td>\n",
       "    </tr>\n",
       "    <tr>\n",
       "      <th>2</th>\n",
       "      <td>1219098425</td>\n",
       "      <td>10.0</td>\n",
       "      <td>46</td>\n",
       "      <td>503</td>\n",
       "    </tr>\n",
       "    <tr>\n",
       "      <th>3</th>\n",
       "      <td>1219098426</td>\n",
       "      <td>9.0</td>\n",
       "      <td>46</td>\n",
       "      <td>503</td>\n",
       "    </tr>\n",
       "    <tr>\n",
       "      <th>4</th>\n",
       "      <td>1219098427</td>\n",
       "      <td>9.0</td>\n",
       "      <td>38</td>\n",
       "      <td>503</td>\n",
       "    </tr>\n",
       "  </tbody>\n",
       "</table>\n",
       "</div>"
      ],
      "text/plain": [
       "   Article_ID  VintageMonths  NumberOfArticlesBySameAuthor\\r  \\\n",
       "0  1219098423           10.0                               3   \n",
       "1  1219098424            9.0                               3   \n",
       "2  1219098425           10.0                              46   \n",
       "3  1219098426            9.0                              46   \n",
       "4  1219098427            9.0                              38   \n",
       "\n",
       "   NumberOfArticlesinSameCategory\\r  \n",
       "0                               503  \n",
       "1                               503  \n",
       "2                               503  \n",
       "3                               503  \n",
       "4                               503  "
      ]
     },
     "execution_count": 426,
     "metadata": {},
     "output_type": "execute_result"
    }
   ],
   "source": [
    "articledf.head()"
   ]
  },
  {
   "cell_type": "code",
   "execution_count": 427,
   "metadata": {
    "collapsed": true
   },
   "outputs": [],
   "source": [
    "#traindframe=pd.merge(traindf,userdf,on='User_ID')"
   ]
  },
  {
   "cell_type": "code",
   "execution_count": 428,
   "metadata": {
    "collapsed": false
   },
   "outputs": [],
   "source": [
    "#traindframe.head()"
   ]
  },
  {
   "cell_type": "code",
   "execution_count": 429,
   "metadata": {
    "collapsed": true
   },
   "outputs": [],
   "source": [
    "#ftraindf=pd.merge(traindframe,articledf,on='Article_ID')"
   ]
  },
  {
   "cell_type": "code",
   "execution_count": 430,
   "metadata": {
    "collapsed": false
   },
   "outputs": [
    {
     "data": {
      "text/html": [
       "<div>\n",
       "<table border=\"1\" class=\"dataframe\">\n",
       "  <thead>\n",
       "    <tr style=\"text-align: right;\">\n",
       "      <th></th>\n",
       "      <th>User_ID</th>\n",
       "      <th>Article_ID</th>\n",
       "      <th>Rating</th>\n",
       "      <th>ID</th>\n",
       "    </tr>\n",
       "  </thead>\n",
       "  <tbody>\n",
       "    <tr>\n",
       "      <th>0</th>\n",
       "      <td>20080828074</td>\n",
       "      <td>1219102233</td>\n",
       "      <td>0</td>\n",
       "      <td>20080828074_1219102233</td>\n",
       "    </tr>\n",
       "    <tr>\n",
       "      <th>1</th>\n",
       "      <td>20080851125</td>\n",
       "      <td>1219110304</td>\n",
       "      <td>6</td>\n",
       "      <td>20080851125_1219110304</td>\n",
       "    </tr>\n",
       "    <tr>\n",
       "      <th>2</th>\n",
       "      <td>20080820760</td>\n",
       "      <td>1219151095</td>\n",
       "      <td>0</td>\n",
       "      <td>20080820760_1219151095</td>\n",
       "    </tr>\n",
       "    <tr>\n",
       "      <th>3</th>\n",
       "      <td>20080824760</td>\n",
       "      <td>1219295837</td>\n",
       "      <td>5</td>\n",
       "      <td>20080824760_1219295837</td>\n",
       "    </tr>\n",
       "    <tr>\n",
       "      <th>4</th>\n",
       "      <td>20080883177</td>\n",
       "      <td>1219209257</td>\n",
       "      <td>4</td>\n",
       "      <td>20080883177_1219209257</td>\n",
       "    </tr>\n",
       "  </tbody>\n",
       "</table>\n",
       "</div>"
      ],
      "text/plain": [
       "       User_ID  Article_ID  Rating                      ID\n",
       "0  20080828074  1219102233       0  20080828074_1219102233\n",
       "1  20080851125  1219110304       6  20080851125_1219110304\n",
       "2  20080820760  1219151095       0  20080820760_1219151095\n",
       "3  20080824760  1219295837       5  20080824760_1219295837\n",
       "4  20080883177  1219209257       4  20080883177_1219209257"
      ]
     },
     "execution_count": 430,
     "metadata": {},
     "output_type": "execute_result"
    }
   ],
   "source": [
    "ftraindf=traindf\n",
    "ftraindf.head()"
   ]
  },
  {
   "cell_type": "code",
   "execution_count": 431,
   "metadata": {
    "collapsed": false
   },
   "outputs": [
    {
     "data": {
      "text/html": [
       "<div>\n",
       "<table border=\"1\" class=\"dataframe\">\n",
       "  <thead>\n",
       "    <tr style=\"text-align: right;\">\n",
       "      <th></th>\n",
       "      <th>Column Type</th>\n",
       "      <th>Count</th>\n",
       "    </tr>\n",
       "  </thead>\n",
       "  <tbody>\n",
       "    <tr>\n",
       "      <th>0</th>\n",
       "      <td>int64</td>\n",
       "      <td>3</td>\n",
       "    </tr>\n",
       "    <tr>\n",
       "      <th>1</th>\n",
       "      <td>object</td>\n",
       "      <td>1</td>\n",
       "    </tr>\n",
       "  </tbody>\n",
       "</table>\n",
       "</div>"
      ],
      "text/plain": [
       "  Column Type  Count\n",
       "0       int64      3\n",
       "1      object      1"
      ]
     },
     "execution_count": 431,
     "metadata": {},
     "output_type": "execute_result"
    }
   ],
   "source": [
    "tempdf=ftraindf\n",
    "dtype_df = tempdf.dtypes.reset_index()\n",
    "dtype_df.columns = [\"Count\", \"Column Type\"]\n",
    "dtype_df.groupby(\"Column Type\").aggregate('count').reset_index()"
   ]
  },
  {
   "cell_type": "code",
   "execution_count": 432,
   "metadata": {
    "collapsed": false
   },
   "outputs": [
    {
     "data": {
      "text/html": [
       "<div>\n",
       "<table border=\"1\" class=\"dataframe\">\n",
       "  <thead>\n",
       "    <tr style=\"text-align: right;\">\n",
       "      <th></th>\n",
       "      <th>Column Type</th>\n",
       "      <th>Count</th>\n",
       "    </tr>\n",
       "  </thead>\n",
       "  <tbody>\n",
       "    <tr>\n",
       "      <th>0</th>\n",
       "      <td>int64</td>\n",
       "      <td>2</td>\n",
       "    </tr>\n",
       "    <tr>\n",
       "      <th>1</th>\n",
       "      <td>object</td>\n",
       "      <td>1</td>\n",
       "    </tr>\n",
       "  </tbody>\n",
       "</table>\n",
       "</div>"
      ],
      "text/plain": [
       "  Column Type  Count\n",
       "0       int64      2\n",
       "1      object      1"
      ]
     },
     "execution_count": 432,
     "metadata": {},
     "output_type": "execute_result"
    }
   ],
   "source": [
    "temp_test_df=testdf\n",
    "dtype_df = temp_test_df.dtypes.reset_index()\n",
    "dtype_df.columns = [\"Count\", \"Column Type\"]\n",
    "dtype_df.groupby(\"Column Type\").aggregate('count').reset_index()"
   ]
  },
  {
   "cell_type": "code",
   "execution_count": 433,
   "metadata": {
    "collapsed": false
   },
   "outputs": [
    {
     "data": {
      "text/plain": [
       "False"
      ]
     },
     "execution_count": 433,
     "metadata": {},
     "output_type": "execute_result"
    }
   ],
   "source": [
    "#Find missing values\n",
    "ftraindf.isnull().values.any()"
   ]
  },
  {
   "cell_type": "code",
   "execution_count": 434,
   "metadata": {
    "collapsed": false
   },
   "outputs": [
    {
     "data": {
      "text/plain": [
       "User_ID       0\n",
       "Article_ID    0\n",
       "Rating        0\n",
       "ID            0\n",
       "dtype: int64"
      ]
     },
     "execution_count": 434,
     "metadata": {},
     "output_type": "execute_result"
    }
   ],
   "source": [
    "ftraindf.isnull().sum()"
   ]
  },
  {
   "cell_type": "code",
   "execution_count": 435,
   "metadata": {
    "collapsed": true
   },
   "outputs": [],
   "source": [
    "# Saving id variables to create final submission\n",
    "ID_test = testdf['ID'].copy()\n",
    "User_ID_test = testdf['User_ID'].copy()\n",
    "Article_ID_test = testdf['Article_ID'].copy()"
   ]
  },
  {
   "cell_type": "code",
   "execution_count": 436,
   "metadata": {
    "collapsed": true
   },
   "outputs": [],
   "source": [
    "#save the predictor variable.\n",
    "targetvar=ftraindf['Rating']"
   ]
  },
  {
   "cell_type": "code",
   "execution_count": 437,
   "metadata": {
    "collapsed": false
   },
   "outputs": [
    {
     "data": {
      "text/html": [
       "<div>\n",
       "<table border=\"1\" class=\"dataframe\">\n",
       "  <thead>\n",
       "    <tr style=\"text-align: right;\">\n",
       "      <th></th>\n",
       "      <th>User_ID</th>\n",
       "      <th>Article_ID</th>\n",
       "      <th>Rating</th>\n",
       "      <th>ID</th>\n",
       "    </tr>\n",
       "  </thead>\n",
       "  <tbody>\n",
       "    <tr>\n",
       "      <th>0</th>\n",
       "      <td>20080828074</td>\n",
       "      <td>1219102233</td>\n",
       "      <td>0</td>\n",
       "      <td>20080828074_1219102233</td>\n",
       "    </tr>\n",
       "    <tr>\n",
       "      <th>1</th>\n",
       "      <td>20080851125</td>\n",
       "      <td>1219110304</td>\n",
       "      <td>6</td>\n",
       "      <td>20080851125_1219110304</td>\n",
       "    </tr>\n",
       "    <tr>\n",
       "      <th>2</th>\n",
       "      <td>20080820760</td>\n",
       "      <td>1219151095</td>\n",
       "      <td>0</td>\n",
       "      <td>20080820760_1219151095</td>\n",
       "    </tr>\n",
       "    <tr>\n",
       "      <th>3</th>\n",
       "      <td>20080824760</td>\n",
       "      <td>1219295837</td>\n",
       "      <td>5</td>\n",
       "      <td>20080824760_1219295837</td>\n",
       "    </tr>\n",
       "    <tr>\n",
       "      <th>4</th>\n",
       "      <td>20080883177</td>\n",
       "      <td>1219209257</td>\n",
       "      <td>4</td>\n",
       "      <td>20080883177_1219209257</td>\n",
       "    </tr>\n",
       "  </tbody>\n",
       "</table>\n",
       "</div>"
      ],
      "text/plain": [
       "       User_ID  Article_ID  Rating                      ID\n",
       "0  20080828074  1219102233       0  20080828074_1219102233\n",
       "1  20080851125  1219110304       6  20080851125_1219110304\n",
       "2  20080820760  1219151095       0  20080820760_1219151095\n",
       "3  20080824760  1219295837       5  20080824760_1219295837\n",
       "4  20080883177  1219209257       4  20080883177_1219209257"
      ]
     },
     "execution_count": 437,
     "metadata": {},
     "output_type": "execute_result"
    }
   ],
   "source": [
    "ftraindf.head()"
   ]
  },
  {
   "cell_type": "code",
   "execution_count": 438,
   "metadata": {
    "collapsed": false
   },
   "outputs": [],
   "source": [
    "ftraindf.drop(['Rating'],inplace=True,axis=1)\n",
    "#Remove target variable from dataframe and other unwanted columns\n",
    "#ftraindf.drop(['Rating','VintageMonths','Var1','Age','NumberOfArticlesBySameAuthor','NumberOfArticlesinSameCategory'], inplace=True, axis=1)"
   ]
  },
  {
   "cell_type": "code",
   "execution_count": 439,
   "metadata": {
    "collapsed": true
   },
   "outputs": [],
   "source": [
    "#Preprocess using label encoder.\n",
    "from sklearn.preprocessing import LabelEncoder\n",
    "for col in ftraindf.columns:\n",
    "    if ftraindf[col].dtype=='object':\n",
    "        lbl=LabelEncoder()\n",
    "        ftraindf[col]=lbl.fit_transform(list(ftraindf[col].values))"
   ]
  },
  {
   "cell_type": "code",
   "execution_count": 440,
   "metadata": {
    "collapsed": true
   },
   "outputs": [],
   "source": [
    "#Label encoding for test data\n",
    "for col in testdf.columns:\n",
    "    if testdf[col].dtype=='object':\n",
    "        lbl=LabelEncoder()\n",
    "        testdf[col]=lbl.fit_transform(list(testdf[col].values))"
   ]
  },
  {
   "cell_type": "code",
   "execution_count": 441,
   "metadata": {
    "collapsed": false
   },
   "outputs": [
    {
     "data": {
      "text/html": [
       "<div>\n",
       "<table border=\"1\" class=\"dataframe\">\n",
       "  <thead>\n",
       "    <tr style=\"text-align: right;\">\n",
       "      <th></th>\n",
       "      <th>User_ID</th>\n",
       "      <th>Article_ID</th>\n",
       "      <th>ID</th>\n",
       "    </tr>\n",
       "  </thead>\n",
       "  <tbody>\n",
       "    <tr>\n",
       "      <th>0</th>\n",
       "      <td>20080828074</td>\n",
       "      <td>1219102233</td>\n",
       "      <td>429836</td>\n",
       "    </tr>\n",
       "    <tr>\n",
       "      <th>1</th>\n",
       "      <td>20080851125</td>\n",
       "      <td>1219110304</td>\n",
       "      <td>582149</td>\n",
       "    </tr>\n",
       "    <tr>\n",
       "      <th>2</th>\n",
       "      <td>20080820760</td>\n",
       "      <td>1219151095</td>\n",
       "      <td>100061</td>\n",
       "    </tr>\n",
       "    <tr>\n",
       "      <th>3</th>\n",
       "      <td>20080824760</td>\n",
       "      <td>1219295837</td>\n",
       "      <td>355189</td>\n",
       "    </tr>\n",
       "    <tr>\n",
       "      <th>4</th>\n",
       "      <td>20080883177</td>\n",
       "      <td>1219209257</td>\n",
       "      <td>649508</td>\n",
       "    </tr>\n",
       "  </tbody>\n",
       "</table>\n",
       "</div>"
      ],
      "text/plain": [
       "       User_ID  Article_ID      ID\n",
       "0  20080828074  1219102233  429836\n",
       "1  20080851125  1219110304  582149\n",
       "2  20080820760  1219151095  100061\n",
       "3  20080824760  1219295837  355189\n",
       "4  20080883177  1219209257  649508"
      ]
     },
     "execution_count": 441,
     "metadata": {},
     "output_type": "execute_result"
    }
   ],
   "source": [
    "ftraindf.head()"
   ]
  },
  {
   "cell_type": "code",
   "execution_count": 442,
   "metadata": {
    "collapsed": false
   },
   "outputs": [
    {
     "data": {
      "text/html": [
       "<div>\n",
       "<table border=\"1\" class=\"dataframe\">\n",
       "  <thead>\n",
       "    <tr style=\"text-align: right;\">\n",
       "      <th></th>\n",
       "      <th>User_ID</th>\n",
       "      <th>Article_ID</th>\n",
       "      <th>ID</th>\n",
       "    </tr>\n",
       "  </thead>\n",
       "  <tbody>\n",
       "    <tr>\n",
       "      <th>0</th>\n",
       "      <td>20080822161</td>\n",
       "      <td>1219173561</td>\n",
       "      <td>110288</td>\n",
       "    </tr>\n",
       "    <tr>\n",
       "      <th>1</th>\n",
       "      <td>20080839116</td>\n",
       "      <td>1219217951</td>\n",
       "      <td>228195</td>\n",
       "    </tr>\n",
       "    <tr>\n",
       "      <th>2</th>\n",
       "      <td>20080831336</td>\n",
       "      <td>1219224091</td>\n",
       "      <td>202233</td>\n",
       "    </tr>\n",
       "    <tr>\n",
       "      <th>3</th>\n",
       "      <td>20080820936</td>\n",
       "      <td>1219186943</td>\n",
       "      <td>59662</td>\n",
       "    </tr>\n",
       "    <tr>\n",
       "      <th>4</th>\n",
       "      <td>20080823287</td>\n",
       "      <td>1219165896</td>\n",
       "      <td>134079</td>\n",
       "    </tr>\n",
       "  </tbody>\n",
       "</table>\n",
       "</div>"
      ],
      "text/plain": [
       "       User_ID  Article_ID      ID\n",
       "0  20080822161  1219173561  110288\n",
       "1  20080839116  1219217951  228195\n",
       "2  20080831336  1219224091  202233\n",
       "3  20080820936  1219186943   59662\n",
       "4  20080823287  1219165896  134079"
      ]
     },
     "execution_count": 442,
     "metadata": {},
     "output_type": "execute_result"
    }
   ],
   "source": [
    "testdf.head()"
   ]
  },
  {
   "cell_type": "code",
   "execution_count": 443,
   "metadata": {
    "collapsed": false
   },
   "outputs": [
    {
     "data": {
      "text/plain": [
       "User_ID       0\n",
       "Article_ID    0\n",
       "ID            0\n",
       "dtype: int64"
      ]
     },
     "execution_count": 443,
     "metadata": {},
     "output_type": "execute_result"
    }
   ],
   "source": [
    "ftraindf.isnull().sum()"
   ]
  },
  {
   "cell_type": "code",
   "execution_count": 444,
   "metadata": {
    "collapsed": false
   },
   "outputs": [
    {
     "data": {
      "text/html": [
       "<div>\n",
       "<table border=\"1\" class=\"dataframe\">\n",
       "  <thead>\n",
       "    <tr style=\"text-align: right;\">\n",
       "      <th></th>\n",
       "      <th>User_ID</th>\n",
       "      <th>Article_ID</th>\n",
       "      <th>ID</th>\n",
       "    </tr>\n",
       "  </thead>\n",
       "  <tbody>\n",
       "    <tr>\n",
       "      <th>0</th>\n",
       "      <td>20080822161</td>\n",
       "      <td>1219173561</td>\n",
       "      <td>110288</td>\n",
       "    </tr>\n",
       "    <tr>\n",
       "      <th>1</th>\n",
       "      <td>20080839116</td>\n",
       "      <td>1219217951</td>\n",
       "      <td>228195</td>\n",
       "    </tr>\n",
       "    <tr>\n",
       "      <th>2</th>\n",
       "      <td>20080831336</td>\n",
       "      <td>1219224091</td>\n",
       "      <td>202233</td>\n",
       "    </tr>\n",
       "    <tr>\n",
       "      <th>3</th>\n",
       "      <td>20080820936</td>\n",
       "      <td>1219186943</td>\n",
       "      <td>59662</td>\n",
       "    </tr>\n",
       "    <tr>\n",
       "      <th>4</th>\n",
       "      <td>20080823287</td>\n",
       "      <td>1219165896</td>\n",
       "      <td>134079</td>\n",
       "    </tr>\n",
       "  </tbody>\n",
       "</table>\n",
       "</div>"
      ],
      "text/plain": [
       "       User_ID  Article_ID      ID\n",
       "0  20080822161  1219173561  110288\n",
       "1  20080839116  1219217951  228195\n",
       "2  20080831336  1219224091  202233\n",
       "3  20080820936  1219186943   59662\n",
       "4  20080823287  1219165896  134079"
      ]
     },
     "execution_count": 444,
     "metadata": {},
     "output_type": "execute_result"
    }
   ],
   "source": [
    "testdf.head()"
   ]
  },
  {
   "cell_type": "code",
   "execution_count": 445,
   "metadata": {
    "collapsed": true
   },
   "outputs": [],
   "source": [
    "from sklearn.preprocessing import MinMaxScaler\n",
    "from sklearn.feature_selection import SelectKBest\n",
    "from sklearn.preprocessing import StandardScaler"
   ]
  },
  {
   "cell_type": "code",
   "execution_count": 446,
   "metadata": {
    "collapsed": true
   },
   "outputs": [],
   "source": [
    "scaler=MinMaxScaler()\n",
    "ftraindf=scaler.fit_transform(ftraindf)\n",
    "testdf=scaler.transform(testdf) "
   ]
  },
  {
   "cell_type": "code",
   "execution_count": 447,
   "metadata": {
    "collapsed": true
   },
   "outputs": [],
   "source": [
    "#sd_scaler=StandardScaler()\n",
    "#ftraindf=sd_scaler.fit_transform(ftraindf)\n",
    "#testdf=sd_scaler.transform(testdf)"
   ]
  },
  {
   "cell_type": "code",
   "execution_count": 448,
   "metadata": {
    "collapsed": true
   },
   "outputs": [],
   "source": [
    "from sklearn import ensemble\n",
    "from sklearn.metrics import mean_absolute_error"
   ]
  },
  {
   "cell_type": "code",
   "execution_count": 449,
   "metadata": {
    "collapsed": false
   },
   "outputs": [
    {
     "data": {
      "text/plain": [
       "\"\\nmodel = ensemble.GradientBoostingRegressor(\\n    n_estimators=1000,\\n    learning_rate=0.1,\\n    max_depth=3,\\n    min_samples_leaf=1,\\n    max_features=0.1,\\n    loss='huber',\\n    random_state=0\\n)\\nmodel.fit(ftraindf, targetvar)\\n\\n\""
      ]
     },
     "execution_count": 449,
     "metadata": {},
     "output_type": "execute_result"
    }
   ],
   "source": [
    "# Fit regression model\n",
    "\"\"\"\n",
    "model = ensemble.GradientBoostingRegressor(\n",
    "    n_estimators=1000,\n",
    "    learning_rate=0.1,\n",
    "    max_depth=3,\n",
    "    min_samples_leaf=1,\n",
    "    max_features=0.1,\n",
    "    loss='huber',\n",
    "    random_state=0\n",
    ")\n",
    "model.fit(ftraindf, targetvar)\n",
    "\n",
    "\"\"\"\n"
   ]
  },
  {
   "cell_type": "code",
   "execution_count": 450,
   "metadata": {
    "collapsed": false
   },
   "outputs": [
    {
     "data": {
      "text/plain": [
       "\"\\nRFmodel=ensemble.RandomForestRegressor(n_estimators=15, criterion='mse', max_depth=4, \\n                      min_samples_split=6, min_samples_leaf=7, min_weight_fraction_leaf=0.5,\\n                      max_features='auto', max_leaf_nodes=7, \\n                      bootstrap=True, oob_score=True, n_jobs=2, random_state=42, verbose=0, \\n                      warm_start=False)\\nRFmodel.fit(ftraindf, targetvar)\\n\\n\""
      ]
     },
     "execution_count": 450,
     "metadata": {},
     "output_type": "execute_result"
    }
   ],
   "source": [
    "\"\"\"\n",
    "RFmodel=ensemble.RandomForestRegressor(n_estimators=15, criterion='mse', max_depth=4, \n",
    "                      min_samples_split=6, min_samples_leaf=7, min_weight_fraction_leaf=0.5,\n",
    "                      max_features='auto', max_leaf_nodes=7, \n",
    "                      bootstrap=True, oob_score=True, n_jobs=2, random_state=42, verbose=0, \n",
    "                      warm_start=False)\n",
    "RFmodel.fit(ftraindf, targetvar)\n",
    "\n",
    "\"\"\"\n",
    "\n",
    "\n"
   ]
  },
  {
   "cell_type": "code",
   "execution_count": 494,
   "metadata": {
    "collapsed": false
   },
   "outputs": [
    {
     "data": {
      "text/plain": [
       "AdaBoostRegressor(base_estimator=None, learning_rate=0.09, loss='linear',\n",
       "         n_estimators=52, random_state=42)"
      ]
     },
     "execution_count": 494,
     "metadata": {},
     "output_type": "execute_result"
    }
   ],
   "source": [
    "Adbmodel=ensemble.AdaBoostRegressor(base_estimator=None, n_estimators=52, \n",
    "                  learning_rate=0.09, loss='linear', random_state=42)\n",
    "Adbmodel.fit(ftraindf,targetvar)"
   ]
  },
  {
   "cell_type": "code",
   "execution_count": 495,
   "metadata": {
    "collapsed": false
   },
   "outputs": [],
   "source": [
    "preds=Adbmodel.predict(testdf)"
   ]
  },
  {
   "cell_type": "code",
   "execution_count": 496,
   "metadata": {
    "collapsed": true
   },
   "outputs": [],
   "source": [
    "# Submission file\n",
    "submit = pd.DataFrame({'ID': ID_test,'Rating': preds})\n",
    "submit = submit[['ID','Rating']]\n",
    "\n",
    "\n",
    "submit.to_csv(\"solution27.csv\", index=False)"
   ]
  },
  {
   "cell_type": "code",
   "execution_count": null,
   "metadata": {
    "collapsed": true
   },
   "outputs": [],
   "source": []
  }
 ],
 "metadata": {
  "anaconda-cloud": {},
  "kernelspec": {
   "display_name": "Python [py2]",
   "language": "python",
   "name": "Python [py2]"
  },
  "language_info": {
   "codemirror_mode": {
    "name": "ipython",
    "version": 2
   },
   "file_extension": ".py",
   "mimetype": "text/x-python",
   "name": "python",
   "nbconvert_exporter": "python",
   "pygments_lexer": "ipython2",
   "version": "2.7.12"
  }
 },
 "nbformat": 4,
 "nbformat_minor": 0
}
